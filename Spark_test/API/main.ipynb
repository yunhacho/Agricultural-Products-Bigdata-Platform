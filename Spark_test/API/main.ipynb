{
 "cells": [
  {
   "cell_type": "code",
   "execution_count": 5,
   "metadata": {},
   "outputs": [
    {
     "data": {
      "text/plain": [
       "'C:\\\\spark\\\\spark-3.1.1-bin-hadoop2.7'"
      ]
     },
     "execution_count": 5,
     "metadata": {},
     "output_type": "execute_result"
    }
   ],
   "source": [
    "import sys\n",
    "import findspark\n",
    "findspark.init() #jupyter notebook에서 -> 사용하면 pyspark를 일반 library처럼 사용 가능.\n",
    "findspark.find()\n",
    "import pyspark\n",
    "findspark.find()"
   ]
  },
  {
   "cell_type": "code",
   "execution_count": 2,
   "metadata": {},
   "outputs": [],
   "source": [
    "from pyspark import SparkContext, SQLContext\n",
    "from pyspark.sql import SparkSession\n",
    "# from pyspark.sql.types import StructType,StructField, StringType, IntegerType,BooleanType,DoubleType\n",
    "\n",
    "# spark = SparkSession.builder \\\n",
    "# .appName('Spark_test') \\\n",
    "# .master('local[*]') \\\n",
    "# .config('spark.sql.execution.arrow.pyspark.enabled', True) \\\n",
    "# .config('spark.sql.session.timeZone', 'UTC') \\\n",
    "# .config('spark.driver.memory','32G') \\\n",
    "# .config('spark.ui.showConsoleProgress', True) \\\n",
    "# .config('spark.sql.repl.eagerEval.enabled', True) \\\n",
    "# .getOrCreate()\n",
    "\n",
    "# conf = pyspark.SparkConf().setAppName(\"\").set(\"spark.ui.port\", \"25333\")\n",
    "\n",
    "#      .enableHiveSupport() \\\n",
    "#      .config(\"spark.some.config.option\", \"some-value\") \\\n",
    "\n",
    "spark = SparkSession.builder \\\n",
    "     .master(\"local\") \\\n",
    "     .appName(\"Spark_test\") \\\n",
    "     .config(\"spark.some.config.option\", \"some-value\") \\\n",
    "     .getOrCreate()"
   ]
  },
  {
   "cell_type": "code",
   "execution_count": 3,
   "metadata": {},
   "outputs": [
    {
     "name": "stdout",
     "output_type": "stream",
     "text": [
      "importing Jupyter notebook from hello.ipynb\n",
      "importing Jupyter notebook from make_table.ipynb\n",
      "table oil done\n",
      "table PyeongtaekWeather done\n",
      "table AnseongWeather done\n",
      "table ChuncheonWeather done\n",
      "table JeongeupWeather done\n",
      "table HampyeongWeather done\n",
      "table SangjuWeather done\n",
      "table GimhaeWeather done\n",
      "table HamyangWeather done\n",
      "table priceTable done\n",
      "=============================Create Table Everyday DONE=============================\n",
      "table priceIndex done\n",
      "=============================Create Table Month DONE=============================\n",
      "table riceProduction done\n",
      "table onionProduction done\n",
      "table cucumberProduction done\n",
      "table greenOnionProduction done\n",
      "table pumpkinProduction done\n",
      "=============================Create Table Year DONE=============================\n"
     ]
    }
   ],
   "source": [
    "from flask import Flask\n",
    "from flask_restful import Resource, Api\n",
    "import import_ipynb\n",
    "from hello import HelloWorld\n",
    "from make_table import CreateEveryday, CreateMonth, CreateYear\n",
    "\n",
    "CreateEveryday()    #### 하루에 한번씩\n",
    "CreateMonth()     #### 달에 한번씩\n",
    "CreateYear()     #### 년에 한번씩\n"
   ]
  },
  {
   "cell_type": "code",
   "execution_count": 4,
   "metadata": {},
   "outputs": [
    {
     "name": "stdout",
     "output_type": "stream",
     "text": [
      "importing Jupyter notebook from show_price.ipynb\n",
      "importing Jupyter notebook from show_graph.ipynb\n",
      "importing Jupyter notebook from draw_graph.ipynb\n",
      "importing Jupyter notebook from show_predict_price.ipynb\n",
      "importing Jupyter notebook from predicts.ipynb\n",
      " * Serving Flask app \"__main__\" (lazy loading)\n",
      " * Environment: production\n",
      "   WARNING: This is a development server. Do not use it in a production deployment.\n",
      "   Use a production WSGI server instead.\n",
      " * Debug mode: off\n"
     ]
    },
    {
     "name": "stderr",
     "output_type": "stream",
     "text": [
      " * Running on http://127.0.0.1:5000/ (Press CTRL+C to quit)\n",
      "[2021-05-27 21:12:04,240] ERROR in app: Exception on /show_graph/price_index [GET]\n",
      "Traceback (most recent call last):\n",
      "  File \"C:\\Users\\Jihyun\\anaconda3\\lib\\site-packages\\flask\\app.py\", line 1950, in full_dispatch_request\n",
      "    rv = self.dispatch_request()\n",
      "  File \"C:\\Users\\Jihyun\\anaconda3\\lib\\site-packages\\flask\\app.py\", line 1936, in dispatch_request\n",
      "    return self.view_functions[rule.endpoint](**req.view_args)\n",
      "  File \"C:\\Users\\Jihyun\\anaconda3\\lib\\site-packages\\flask_restful\\__init__.py\", line 467, in wrapper\n",
      "    resp = resource(*args, **kwargs)\n",
      "  File \"C:\\Users\\Jihyun\\anaconda3\\lib\\site-packages\\flask\\views.py\", line 89, in view\n",
      "    return self.dispatch_request(*args, **kwargs)\n",
      "  File \"C:\\Users\\Jihyun\\anaconda3\\lib\\site-packages\\flask_restful\\__init__.py\", line 582, in dispatch_request\n",
      "    resp = meth(*args, **kwargs)\n",
      "  File \"<string>\", line 5, in get\n",
      "KeyError: '오이'\n",
      "127.0.0.1 - - [27/May/2021 21:12:04] \"\u001b[35m\u001b[1mGET /show_graph/price_index?item=오이&kind=가시계통(1kg)&rank=중품&element=곡물및식량작물 HTTP/1.1\u001b[0m\" 500 -\n",
      "127.0.0.1 - - [27/May/2021 21:12:28] \"\u001b[37mGET /show_graph/price_index?item=0&kind=0&rank=0&element=1 HTTP/1.1\u001b[0m\" 200 -\n"
     ]
    }
   ],
   "source": [
    "from show_price import ShowPriceDaysBefore, ShowPricePeriod, ShowPriceThisDay\n",
    "from show_graph import ShowOilPriceGraph, ShowYearStatisticGraph, ShowWeatherPriceGraph, ShowPriceInedxPriceGraph\n",
    "from show_predict_price import ShowPricePredict\n",
    "\n",
    "app = Flask(__name__)\n",
    "api = Api(app)\n",
    "\n",
    "api.add_resource(HelloWorld, '/')\n",
    "\n",
    "api.add_resource(ShowPriceDaysBefore, '/show_price/days_before')\n",
    "api.add_resource(ShowPricePeriod, '/show_price/period')\n",
    "api.add_resource(ShowPriceThisDay, '/show_price/this_day')\n",
    "\n",
    "api.add_resource(ShowOilPriceGraph, '/show_graph/oil')\n",
    "api.add_resource(ShowYearStatisticGraph, '/show_graph/year')\n",
    "api.add_resource(ShowWeatherPriceGraph, '/show_graph/weather')\n",
    "api.add_resource(ShowPriceInedxPriceGraph, '/show_graph/price_index')\n",
    "\n",
    "api.add_resource(ShowPricePredict, '/predict')\n",
    "\n",
    "if __name__ == '__main__':\n",
    "    app.run()\n"
   ]
  }
 ],
 "metadata": {
  "kernelspec": {
   "display_name": "Python 3",
   "language": "python",
   "name": "python3"
  },
  "language_info": {
   "codemirror_mode": {
    "name": "ipython",
    "version": 3
   },
   "file_extension": ".py",
   "mimetype": "text/x-python",
   "name": "python",
   "nbconvert_exporter": "python",
   "pygments_lexer": "ipython3",
   "version": "3.8.5"
  }
 },
 "nbformat": 4,
 "nbformat_minor": 4
}
