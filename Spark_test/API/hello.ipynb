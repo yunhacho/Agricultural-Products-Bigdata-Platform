{
 "cells": [
  {
   "cell_type": "code",
   "execution_count": 4,
   "metadata": {},
   "outputs": [],
   "source": [
    "from flask_restful import Resource\n",
    "from flask import Flask, request\n",
    "\n",
    "class HelloWorld(Resource):\n",
    "    def get(self):\n",
    "        obj_type = request.args.get('type', \"\")\n",
    "        \n",
    "        return {obj_type: 'world'}"
   ]
  }
 ],
 "metadata": {
  "kernelspec": {
   "display_name": "Python 3",
   "language": "python",
   "name": "python3"
  },
  "language_info": {
   "codemirror_mode": {
    "name": "ipython",
    "version": 3
   },
   "file_extension": ".py",
   "mimetype": "text/x-python",
   "name": "python",
   "nbconvert_exporter": "python",
   "pygments_lexer": "ipython3",
   "version": "3.8.5"
  }
 },
 "nbformat": 4,
 "nbformat_minor": 4
}
