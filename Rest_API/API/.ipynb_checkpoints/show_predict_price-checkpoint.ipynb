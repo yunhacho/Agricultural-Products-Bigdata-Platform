{
 "cells": [
  {
   "cell_type": "code",
   "execution_count": 1,
   "metadata": {},
   "outputs": [
    {
     "data": {
      "text/plain": [
       "'C:\\\\spark\\\\spark-3.1.1-bin-hadoop2.7'"
      ]
     },
     "execution_count": 1,
     "metadata": {},
     "output_type": "execute_result"
    }
   ],
   "source": [
    "import sys\n",
    "import findspark\n",
    "findspark.init() #jupyter notebook에서 -> 사용하면 pyspark를 일반 library처럼 사용 가능.\n",
    "findspark.find()\n",
    "import pyspark\n",
    "findspark.find()"
   ]
  },
  {
   "cell_type": "code",
   "execution_count": 2,
   "metadata": {},
   "outputs": [],
   "source": [
    "from pyspark import SparkContext, SQLContext\n",
    "from pyspark.sql import SparkSession\n",
    "\n",
    "spark = SparkSession.builder.getOrCreate()     #기존에 열려있는 session가져오기"
   ]
  },
  {
   "cell_type": "code",
   "execution_count": 3,
   "metadata": {},
   "outputs": [
    {
     "name": "stdout",
     "output_type": "stream",
     "text": [
      "importing Jupyter notebook from predicts.ipynb\n"
     ]
    }
   ],
   "source": [
    "from flask import request, make_response\n",
    "from flask_restful import Resource, Api\n",
    "import json\n",
    "import import_ipynb\n",
    "from predicts import Predict\n",
    "from bson import json_util\n",
    "\n",
    "item_dict = {\"0\":\"오이\", \"1\":\"양파\", \"2\":\"파\", \"3\":\"호박\", \"4\":\"쌀\"}\n",
    "kind_dict = {\"0\":\"취청(50개)\", \"1\":\"가시계통(1kg)\", \"2\":\"다다기계통(100개)\", \"3\":\"햇양파(1kg)\", \"4\":\"양파(1kg)\", \"5\":\"수입(1kg)\", \"6\":\"대파(1kg)\", \"7\":\"쪽파(1kg)\", \"8\":\"애호박(20개)\", \"9\":\"쥬키니(1kg)\", \"10\":\"일반계(1kg)\", \"11\":\"햇일반계(1kg)\"}\n",
    "rank_dict = {\"0\":\"중품\", \"1\":\"상품\"}\n",
    "\n",
    "\n",
    "class ShowPricePredict(Resource):\n",
    "    def get(self):\n",
    "        input_item = item_dict[request.args.get('item')] # ex. item= 오이\n",
    "        input_kind = kind_dict[request.args.get('kind')] # ex. kind= 가시계통(1kg)\n",
    "        input_rank = rank_dict[request.args.get('rank')] # ex. rank= 중품\n",
    "\n",
    "\n",
    "        predict_price = Predict(input_item, input_kind, input_rank)\n",
    "        dict_datas = {'predict_price': str(predict_price[0][0])} # list를 dictionary로 바꾸기      \n",
    "        \n",
    "        result = make_response(json.dumps(dict_datas, ensure_ascii=False),200)\n",
    "        return result"
   ]
  }
 ],
 "metadata": {
  "kernelspec": {
   "display_name": "Python 3",
   "language": "python",
   "name": "python3"
  },
  "language_info": {
   "codemirror_mode": {
    "name": "ipython",
    "version": 3
   },
   "file_extension": ".py",
   "mimetype": "text/x-python",
   "name": "python",
   "nbconvert_exporter": "python",
   "pygments_lexer": "ipython3",
   "version": "3.8.5"
  }
 },
 "nbformat": 4,
 "nbformat_minor": 4
}
