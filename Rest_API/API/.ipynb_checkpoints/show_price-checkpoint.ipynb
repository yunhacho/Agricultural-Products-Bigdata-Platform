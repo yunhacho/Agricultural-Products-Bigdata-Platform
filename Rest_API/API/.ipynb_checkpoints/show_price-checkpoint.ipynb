{
 "cells": [
  {
   "cell_type": "code",
   "execution_count": 1,
   "metadata": {},
   "outputs": [
    {
     "data": {
      "text/plain": [
       "'C:\\\\spark\\\\spark-3.1.1-bin-hadoop2.7'"
      ]
     },
     "execution_count": 1,
     "metadata": {},
     "output_type": "execute_result"
    }
   ],
   "source": [
    "import sys\n",
    "import findspark\n",
    "findspark.init() #jupyter notebook에서 -> 사용하면 pyspark를 일반 library처럼 사용 가능.\n",
    "findspark.find()\n",
    "import pyspark\n",
    "findspark.find()"
   ]
  },
  {
   "cell_type": "code",
   "execution_count": 2,
   "metadata": {},
   "outputs": [],
   "source": [
    "from pyspark import SparkContext, SQLContext\n",
    "from pyspark.sql import SparkSession\n",
    "\n",
    "spark = SparkSession.builder.getOrCreate()     #기존에 열려있는 session가져오기"
   ]
  },
  {
   "cell_type": "code",
   "execution_count": 3,
   "metadata": {},
   "outputs": [],
   "source": [
    "from flask import request, make_response\n",
    "from flask_restful import Resource, Api\n",
    "import json\n",
    "from datetime import datetime\n",
    "from datetime import timedelta\n",
    "from bson import json_util     # datetime.date를 막기위함 -> 효과 없음\n",
    "# import pandas as pd\n",
    "\n",
    "\n",
    "item_dict = {0:\"오이\", \"1\":\"양파\", 2:\"파\", 3:\"호박\", 4:\"쌀\"}\n",
    "kind_dict = {0:\"취청(50개)\", 1:\"가시계통(1kg)\", 2:\"다다기계통(100개)\", 3:\"햇양파(1kg)\", 4:\"양파(1kg)\", 5:\"수입(1kg)\", 6:\"대파(1kg)\", 7:\"쪽파(1kg)\", 8:\"애호박(20개)\", 9:\"쥬키니(1kg)\", 10:\"일반계(1kg)\", 11:\"햇일반계(1kg)\"}\n",
    "rank_dict = {0:\"중품\", 1:\"상품\"}\n",
    "\n",
    "# @ShowPrice.route('/days_before', methods=['GET'])\n",
    "class ShowPriceDaysBefore(Resource):\n",
    "    def get(self):\n",
    "        input_item_name = item_dict[request.args.get('item')] # ex. item=1\n",
    "        input_date = request.args.get('date') # ex. date=20180320\n",
    "\n",
    "        # date format 계산 가능한 format으로 바꾸기\n",
    "        date_format = '%Y%m%d' \n",
    "        try:\n",
    "            date_obj = datetime.strptime(input_date, date_format).date()\n",
    "        except ValueError:\n",
    "            print(\"Incorrect data format, should be YYYYMMDD\")\n",
    "\n",
    "        one_day_ago = date_obj - timedelta(days=1)\n",
    "        one_week_ago = date_obj - timedelta(days=7)\n",
    "        two_week_ago = date_obj - timedelta(days=14)\n",
    "        _30day_ago = date_obj - timedelta(days=30)\n",
    "        one_year_ago = date_obj.replace(year=date_obj.year-1)\n",
    "\n",
    "        # price table에서 query 사용하여 찾기\n",
    "        df = spark.sql(\"SELECT date_format(timestamp,'yyyy-MM-dd') as timestamp,item_name,kind_name,price,rank,unit FROM priceTable WHERE (timestamp=='{1}' OR timestamp=='{2}' OR timestamp=='{3}' OR timestamp=='{4}') AND item_name=='{0}' ORDER BY `timestamp` DESC\".format(input_item_name, one_day_ago, one_week_ago, two_week_ago, _30day_ago))\n",
    "\n",
    "        map_datas = map(lambda row: row.asDict(), df.collect()) # dataframe을 map으로 바꾸기 (df.colloect()로 dataframe을 list화 한다)\n",
    "        list_datas = list(map_datas) # map을 list로 바꾸기\n",
    "        dict_datas = {i: str(list_datas[i]) for i in range(len(list_datas))} # list를 dictionary로 바꾸기\n",
    "\n",
    "        result = make_response(json.dumps(dict_datas, ensure_ascii=False),200)  # dictionary를 json으로 바꾸기 (ensure_ascii=False를 사용하여 아스키에 없는 문자들도 모두 출력 -> 한글출력)\n",
    "        return result\n",
    "\n",
    "# @ShowPrice.route('/show_price/period', methods=['GET'])\n",
    "class ShowPricePeriod(Resource):\n",
    "    def get(self):\n",
    "        input_item_name = request.args.get('item')\n",
    "        input_start_date = request.args.get('date1')\n",
    "        input_end_date = request.args.get('date2')\n",
    "        date_list = []\n",
    "\n",
    "        date_format = '%Y%m%d'\n",
    "        try:\n",
    "            date_start_obj = datetime.strptime(input_start_date, date_format).date()\n",
    "            date_end_obj = datetime.strptime(input_end_date, date_format).date()\n",
    "        except ValueError:\n",
    "            print(\"Incorrect data format, should be YYYYMMDD\")\n",
    "\n",
    "\n",
    "        delta = date_end_obj - date_start_obj       # as timedelta\n",
    "\n",
    "        for i in range(delta.days + 1):\n",
    "            day = date_start_obj + timedelta(days=i)\n",
    "            date_list.append(str(day))\n",
    "\n",
    "        df = spark.sql(\"SELECT date_format(timestamp,'yyyy-MM-dd') as timestamp,item_name,kind_name,price,rank,unit FROM priceTable WHERE timestamp in ({1}) AND item_name=='{0}' ORDER BY `timestamp` DESC\".format(input_item_name, \",\".join(list(map(lambda x: \"'\"+x+\"'\", date_list)))))\n",
    "\n",
    "        map_datas = map(lambda row: row.asDict(), df.collect()) # dataframe을 map으로 바꾸기 (df.colloect()로 dataframe을 list화 한다)\n",
    "        list_datas = list(map_datas) # map을 list로 바꾸기\n",
    "        dict_datas = {i: str(list_datas[i]) for i in range(len(list_datas))} # list를 dictionary로 바꾸기\n",
    "        \n",
    "        result = make_response(json.dumps(dict_datas, ensure_ascii=False),200) # dictionary를 json으로 바꾸기 (ensure_ascii=False를 사용하여 아스키에 없는 문자들도 모두 출력 -> 한글출력)\n",
    "        return result\n",
    "\n",
    "\n",
    "# @ShowPrice.route('/show_price/this_day', methods=['GET'])\n",
    "class ShowPriceThisDay(Resource):\n",
    "    def get(self):\n",
    "        input_item_name = request.args.get('item')\n",
    "        input_date = request.args.get('date')\n",
    "\n",
    "        date_format = '%Y%m%d'\n",
    "        try:\n",
    "            date_obj = datetime.strptime(input_date, date_format).date()\n",
    "        except ValueError:\n",
    "            print(\"Incorrect data format, should be YYYYMMDD\")\n",
    "\n",
    "        df = spark.sql(\"SELECT date_format(timestamp,'yyyy-MM-dd') as timestamp,item_name,kind_name,price,rank,unit FROM priceTable WHERE timestamp=='{1}' AND item_name=='{0}'\".format(input_item_name, date_obj))\n",
    "\n",
    "        map_datas = map(lambda row: row.asDict(), df.collect()) # dataframe을 map으로 바꾸기 (df.colloect()로 dataframe을 list화 한다)\n",
    "        list_datas = list(map_datas) # map을 list로 바꾸기\n",
    "        dict_datas = {i: str(list_datas[i]) for i in range(len(list_datas))} # list를 dictionary로 바꾸기\n",
    "\n",
    "        result = make_response(json.dumps(dict_datas, ensure_ascii=False),200)  # dictionary를 json으로 바꾸기 (ensure_ascii=False를 사용하여 아스키에 없는 문자들도 모두 출력 -> 한글출력)\n",
    "        return result"
   ]
  }
 ],
 "metadata": {
  "kernelspec": {
   "display_name": "Python 3",
   "language": "python",
   "name": "python3"
  },
  "language_info": {
   "codemirror_mode": {
    "name": "ipython",
    "version": 3
   },
   "file_extension": ".py",
   "mimetype": "text/x-python",
   "name": "python",
   "nbconvert_exporter": "python",
   "pygments_lexer": "ipython3",
   "version": "3.8.5"
  }
 },
 "nbformat": 4,
 "nbformat_minor": 4
}
