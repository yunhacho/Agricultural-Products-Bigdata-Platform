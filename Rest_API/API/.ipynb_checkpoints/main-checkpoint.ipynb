{
 "cells": [
  {
   "cell_type": "code",
   "execution_count": 1,
   "metadata": {},
   "outputs": [
    {
     "data": {
      "text/plain": [
       "'C:\\\\spark\\\\spark-3.1.1-bin-hadoop2.7'"
      ]
     },
     "execution_count": 1,
     "metadata": {},
     "output_type": "execute_result"
    }
   ],
   "source": [
    "import sys\n",
    "import findspark\n",
    "findspark.init() #jupyter notebook에서 -> 사용하면 pyspark를 일반 library처럼 사용 가능.\n",
    "findspark.find()\n",
    "import pyspark\n",
    "findspark.find()"
   ]
  },
  {
   "cell_type": "code",
   "execution_count": 2,
   "metadata": {},
   "outputs": [],
   "source": [
    "from pyspark import SparkContext, SQLContext\n",
    "from pyspark.sql import SparkSession\n",
    "# from pyspark.sql.types import StructType,StructField, StringType, IntegerType,BooleanType,DoubleType\n",
    "\n",
    "# spark = SparkSession.builder \\\n",
    "# .appName('Spark_test') \\\n",
    "# .master('local[*]') \\\n",
    "# .config('spark.sql.execution.arrow.pyspark.enabled', True) \\\n",
    "# .config('spark.sql.session.timeZone', 'UTC') \\\n",
    "# .config('spark.driver.memory','32G') \\\n",
    "# .config('spark.ui.showConsoleProgress', True) \\\n",
    "# .config('spark.sql.repl.eagerEval.enabled', True) \\\n",
    "# .getOrCreate()\n",
    "\n",
    "# conf = pyspark.SparkConf().setAppName(\"\").set(\"spark.ui.port\", \"25333\")\n",
    "\n",
    "#      .enableHiveSupport() \\\n",
    "#      .config(\"spark.some.config.option\", \"some-value\") \\\n",
    "\n",
    "spark = SparkSession.builder \\\n",
    "     .master(\"local\") \\\n",
    "     .appName(\"Spark_test\") \\\n",
    "     .config(\"spark.some.config.option\", \"some-value\") \\\n",
    "     .getOrCreate()"
   ]
  },
  {
   "cell_type": "code",
   "execution_count": 3,
   "metadata": {},
   "outputs": [
    {
     "name": "stdout",
     "output_type": "stream",
     "text": [
      "table oil done\n",
      "table PyeongtaekWeather done\n",
      "table AnseongWeather done\n",
      "table ChuncheonWeather done\n",
      "table JeongeupWeather done\n",
      "table HampyeongWeather done\n",
      "table SangjuWeather done\n",
      "table GimhaeWeather done\n",
      "table HamyangWeather done\n",
      "table priceTable done\n",
      "=============================Create Table Everyday DONE=============================\n",
      "table priceIndex done\n",
      "=============================Create Table Month DONE=============================\n",
      "table riceProduction done\n",
      "table onionProduction done\n",
      "table cucumberProduction done\n",
      "table greenOnionProduction done\n",
      "table pumpkinProduction done\n",
      "=============================Create Table Year DONE=============================\n"
     ]
    }
   ],
   "source": [
    "from flask import Flask\n",
    "from flask_restful import Resource, Api\n",
    "import import_ipynb\n",
    "from hello import HelloWorld\n",
    "from make_table import CreateEveryday, CreateMonth, CreateYear\n",
    "\n",
    "\n",
    "## 처음 서버 시작할 때 (main.py 돌릴 때) 모든 테이블 일괄 생성\n",
    "\n",
    "CreateEveryday()    \n",
    "CreateMonth()     \n",
    "CreateYear()    \n"
   ]
  },
  {
   "cell_type": "code",
   "execution_count": 4,
   "metadata": {},
   "outputs": [],
   "source": [
    "from apscheduler.schedulers.background import BackgroundScheduler\n",
    "from flask import Flask\n",
    "import datetime\n",
    "\n",
    "sched = BackgroundScheduler(daemon=True)\n",
    "\n",
    "# 매일 00시 00분에 실행\n",
    "@sched.scheduled_job('cron', hour='00', minute='00', id='job_1')\n",
    "def job1():\n",
    "    CreateEveryday()   #### 하루에 한번씩\n",
    "\n",
    "# 매월 1일 00시 00분에 실행\n",
    "@sched.scheduled_job('cron', hour='00', minute='00', id='job_2')\n",
    "def job2():\n",
    "    if datetime.datetime.now().day != 1:\n",
    "        return\n",
    "    CreateMonth()   #### 달에 한번씩\n",
    "    \n",
    "# 1월 1일 00시 00분에 실행\n",
    "@sched.scheduled_job('cron', hour='00', minute='00', id='job_3')\n",
    "def job3():\n",
    "    if (datetime.datetime.now().month != 1) or (datetime.datetime.now().day != 1):\n",
    "        return\n",
    "    CreateYear()  #### 년에 한번씩\n",
    "\n",
    "sched.start()"
   ]
  },
  {
   "cell_type": "code",
   "execution_count": 5,
   "metadata": {},
   "outputs": [
    {
     "name": "stdout",
     "output_type": "stream",
     "text": [
      " * Serving Flask app \"__main__\" (lazy loading)\n",
      " * Environment: production\n",
      "   WARNING: This is a development server. Do not use it in a production deployment.\n",
      "   Use a production WSGI server instead.\n",
      " * Debug mode: off\n"
     ]
    },
    {
     "name": "stderr",
     "output_type": "stream",
     "text": [
      " * Running on http://0.0.0.0:5000/ (Press CTRL+C to quit)\n",
      "127.0.0.1 - - [05/Jun/2021 20:22:23] \"\u001b[37mGET /show_price/days_before?item=0&date=20180420 HTTP/1.1\u001b[0m\" 200 -\n"
     ]
    }
   ],
   "source": [
    "from show_price import ShowPriceDaysBefore, ShowPricePeriod, ShowPriceThisDay\n",
    "from show_graph import ShowOilPriceGraph, ShowYearStatisticGraph, ShowWeatherPriceGraph, ShowPriceInedxPriceGraph\n",
    "from show_predict_price import ShowPricePredict\n",
    "\n",
    "app = Flask(__name__)\n",
    "api = Api(app)\n",
    "\n",
    "api.add_resource(HelloWorld, '/')\n",
    "\n",
    "api.add_resource(ShowPriceDaysBefore, '/show_price/days_before')\n",
    "api.add_resource(ShowPricePeriod, '/show_price/period')\n",
    "api.add_resource(ShowPriceThisDay, '/show_price/this_day')\n",
    "\n",
    "api.add_resource(ShowOilPriceGraph, '/show_graph/oil')\n",
    "api.add_resource(ShowYearStatisticGraph, '/show_graph/year')\n",
    "api.add_resource(ShowWeatherPriceGraph, '/show_graph/weather')\n",
    "api.add_resource(ShowPriceInedxPriceGraph, '/show_graph/price_index')\n",
    "\n",
    "api.add_resource(ShowPricePredict, '/predict')\n",
    "\n",
    "if __name__ == '__main__':\n",
    "    app.run(host='118.41.155.254')\n"
   ]
  },
  {
   "cell_type": "code",
   "execution_count": null,
   "metadata": {},
   "outputs": [],
   "source": []
  }
 ],
 "metadata": {
  "kernelspec": {
   "display_name": "Python 3",
   "language": "python",
   "name": "python3"
  },
  "language_info": {
   "codemirror_mode": {
    "name": "ipython",
    "version": 3
   },
   "file_extension": ".py",
   "mimetype": "text/x-python",
   "name": "python",
   "nbconvert_exporter": "python",
   "pygments_lexer": "ipython3",
   "version": "3.8.5"
  }
 },
 "nbformat": 4,
 "nbformat_minor": 4
}
